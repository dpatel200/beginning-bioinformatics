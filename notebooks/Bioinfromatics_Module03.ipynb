{
  "nbformat": 4,
  "nbformat_minor": 0,
  "metadata": {
    "colab": {
      "provenance": [],
      "authorship_tag": "ABX9TyMqp+FIPAotaC+A0bjh0RpC",
      "include_colab_link": true
    },
    "kernelspec": {
      "name": "python3",
      "display_name": "Python 3"
    },
    "language_info": {
      "name": "python"
    }
  },
  "cells": [
    {
      "cell_type": "markdown",
      "metadata": {
        "id": "view-in-github",
        "colab_type": "text"
      },
      "source": [
        "<a href=\"https://colab.research.google.com/github/dpatel200/beginning-bioinformatics/blob/main/notebooks/Bioinfromatics_Module03.ipynb\" target=\"_parent\"><img src=\"https://colab.research.google.com/assets/colab-badge.svg\" alt=\"Open In Colab\"/></a>"
      ]
    },
    {
      "cell_type": "code",
      "execution_count": null,
      "metadata": {
        "colab": {
          "base_uri": "https://localhost:8080/"
        },
        "id": "hgy7bDQ9FccB",
        "outputId": "703238a6-56ab-4ae6-98f1-da7d208aba82"
      },
      "outputs": [
        {
          "output_type": "stream",
          "name": "stdout",
          "text": [
            "Hello World\n"
          ]
        }
      ],
      "source": [
        "print (\"Hello World\")"
      ]
    },
    {
      "cell_type": "code",
      "source": [
        "x=5\n",
        "print(x)"
      ],
      "metadata": {
        "colab": {
          "base_uri": "https://localhost:8080/"
        },
        "id": "NKgI67r1F3HR",
        "outputId": "4f99a1db-acd8-44c9-8b86-76eb61615d75"
      },
      "execution_count": null,
      "outputs": [
        {
          "output_type": "stream",
          "name": "stdout",
          "text": [
            "5\n"
          ]
        }
      ]
    },
    {
      "cell_type": "code",
      "source": [
        "a=918\n",
        "b=801\n",
        "c=a**2+b**2\n",
        "c"
      ],
      "metadata": {
        "colab": {
          "base_uri": "https://localhost:8080/"
        },
        "id": "9xyeQ2vFGTv0",
        "outputId": "e4a82931-1a33-4948-e10d-5ff5f8d4c29b"
      },
      "execution_count": null,
      "outputs": [
        {
          "output_type": "execute_result",
          "data": {
            "text/plain": [
              "1484325"
            ]
          },
          "metadata": {},
          "execution_count": 2
        }
      ]
    },
    {
      "cell_type": "code",
      "source": [
        "name = input(\"Enter your Name:\")\n",
        "print(\"Hello,\"+ name)"
      ],
      "metadata": {
        "id": "hMknoyPjR6A8",
        "colab": {
          "base_uri": "https://localhost:8080/"
        },
        "outputId": "2e8ce404-6c9d-4885-c3ae-7e0739a8fd4c"
      },
      "execution_count": null,
      "outputs": [
        {
          "output_type": "stream",
          "name": "stdout",
          "text": [
            "Enter your Name:Devanshi\n",
            "hello,Devanshi\n"
          ]
        }
      ]
    },
    {
      "cell_type": "code",
      "source": [
        "a=int(input(\"Enter a value\"))\n",
        "b=int(input(\"Enter b value\"))\n",
        "c=a**2+b**2\n",
        "print(c)"
      ],
      "metadata": {
        "colab": {
          "base_uri": "https://localhost:8080/"
        },
        "id": "P7QBLVE-bsnC",
        "outputId": "d35b7742-012d-4dea-92e0-054808de6b7c"
      },
      "execution_count": 1,
      "outputs": [
        {
          "output_type": "stream",
          "name": "stdout",
          "text": [
            "Enter a value122\n",
            "Enter b value458\n",
            "224648\n"
          ]
        }
      ]
    },
    {
      "cell_type": "code",
      "source": [
        "#create a list with 3 elements and then print them\n",
        "\n",
        "my_list=[\"Hello\",\"World\",\"Charles Darwin\"]\n",
        "print(my_list[1])"
      ],
      "metadata": {
        "colab": {
          "base_uri": "https://localhost:8080/"
        },
        "id": "N0N-mT20PODy",
        "outputId": "9d77515b-1de6-4867-8e76-2084b6335af6"
      },
      "execution_count": 12,
      "outputs": [
        {
          "output_type": "stream",
          "name": "stdout",
          "text": [
            "World\n"
          ]
        }
      ]
    },
    {
      "cell_type": "code",
      "source": [
        "#substitue the item at index 2 in the list\n",
        "my_list[2]=\"Alfred R. Wallace\"\n",
        "print(my_list)"
      ],
      "metadata": {
        "colab": {
          "base_uri": "https://localhost:8080/"
        },
        "id": "Btm66oJcPuSu",
        "outputId": "5d9841a5-c624-4429-f6d2-2ae0f0256ff1"
      },
      "execution_count": 13,
      "outputs": [
        {
          "output_type": "stream",
          "name": "stdout",
          "text": [
            "['Hello', 'World', 'Alfred R. Wallace']\n"
          ]
        }
      ]
    },
    {
      "cell_type": "code",
      "source": [
        "my_list.append(\"Charles Darwin\")\n",
        "print(my_list)"
      ],
      "metadata": {
        "colab": {
          "base_uri": "https://localhost:8080/"
        },
        "id": "fIW8lEh-QSEc",
        "outputId": "e727b4e5-c7b7-4e6b-de1d-92b62ee4aaec"
      },
      "execution_count": 14,
      "outputs": [
        {
          "output_type": "stream",
          "name": "stdout",
          "text": [
            "['Hello', 'World', 'Alfred R. Wallace', 'Charles Darwin']\n"
          ]
        }
      ]
    },
    {
      "cell_type": "code",
      "source": [
        "my_list.insert(1,\"Bioinformatics\")\n",
        "print(my_list)"
      ],
      "metadata": {
        "colab": {
          "base_uri": "https://localhost:8080/"
        },
        "id": "oLVGVL8GQuWl",
        "outputId": "49a5fcc7-7a1f-4796-ddcc-f98d5e059115"
      },
      "execution_count": 15,
      "outputs": [
        {
          "output_type": "stream",
          "name": "stdout",
          "text": [
            "['Hello', 'Bioinformatics', 'World', 'Alfred R. Wallace', 'Charles Darwin']\n"
          ]
        }
      ]
    },
    {
      "cell_type": "code",
      "source": [
        "print(my_list[2:4])"
      ],
      "metadata": {
        "colab": {
          "base_uri": "https://localhost:8080/"
        },
        "id": "xARoTbpVRhym",
        "outputId": "b650876c-2a99-48cf-d077-94c93c859efc"
      },
      "execution_count": 16,
      "outputs": [
        {
          "output_type": "stream",
          "name": "stdout",
          "text": [
            "['World', 'Alfred R. Wallace']\n"
          ]
        }
      ]
    },
    {
      "cell_type": "code",
      "source": [
        "my_string=\"HelloWorldCharlesDarwinAlfred R. Wallace\"\n",
        "print(my_string[0:5],my_string[5:10])"
      ],
      "metadata": {
        "colab": {
          "base_uri": "https://localhost:8080/"
        },
        "id": "JJRb89wKS9fn",
        "outputId": "3af271e0-6ad5-438e-e2b7-ace3d793f1a2"
      },
      "execution_count": 17,
      "outputs": [
        {
          "output_type": "stream",
          "name": "stdout",
          "text": [
            "Hello World\n"
          ]
        }
      ]
    },
    {
      "cell_type": "code",
      "source": [
        "print (my_string[32:40],my_string[5:10])"
      ],
      "metadata": {
        "colab": {
          "base_uri": "https://localhost:8080/"
        },
        "id": "UWXGUhbhThpS",
        "outputId": "71e6ee0a-84af-4b11-91ef-0de145924d43"
      },
      "execution_count": 19,
      "outputs": [
        {
          "output_type": "stream",
          "name": "stdout",
          "text": [
            " Wallace World\n"
          ]
        }
      ]
    },
    {
      "cell_type": "code",
      "source": [
        "my_string=\"5pRgUKy6OVEqEulabeiaNR4DSh94OifkpW1WVqS0tPULSL61wmt4wTNVp6IboKbPk4hq6Cu3kVci6rmSJOCg8LhxXwgFU3hOySYjdsJCxzhDJW5pX6ftEpmwUacitreolaUMGSv2RUQEaPIhyqxksTL9L1wgm4GUX3Prl41YssOw.\"\n",
        "print(my_string)"
      ],
      "metadata": {
        "colab": {
          "base_uri": "https://localhost:8080/"
        },
        "id": "G6Zzey53UOp3",
        "outputId": "10e792dc-afa7-4d78-de71-feebd8436c02"
      },
      "execution_count": 28,
      "outputs": [
        {
          "output_type": "stream",
          "name": "stdout",
          "text": [
            "5pRgUKy6OVEqEulabeiaNR4DSh94OifkpW1WVqS0tPULSL61wmt4wTNVp6IboKbPk4hq6Cu3kVci6rmSJOCg8LhxXwgFU3hOySYjdsJCxzhDJW5pX6ftEpmwUacitreolaUMGSv2RUQEaPIhyqxksTL9L1wgm4GUX3Prl41YssOw.\n"
          ]
        }
      ]
    },
    {
      "cell_type": "code",
      "source": [
        "print (my_string[12:20],my_string[122:130],)"
      ],
      "metadata": {
        "colab": {
          "base_uri": "https://localhost:8080/"
        },
        "id": "K9EgfM5RUhfh",
        "outputId": "59658bf2-f870-44ea-feae-4b0191d34de9"
      },
      "execution_count": 29,
      "outputs": [
        {
          "output_type": "stream",
          "name": "stdout",
          "text": [
            "Eulabeia citreola\n"
          ]
        }
      ]
    },
    {
      "cell_type": "code",
      "source": [
        "a=5\n",
        "b=1\n",
        "\n",
        "if a!=b:\n",
        "  print(a-b)\n",
        "else:\n",
        "  print(a+b)"
      ],
      "metadata": {
        "colab": {
          "base_uri": "https://localhost:8080/"
        },
        "id": "B4KTsAfBb6MD",
        "outputId": "a179ceed-88f2-4bcd-e3e1-20051611a9fd"
      },
      "execution_count": 36,
      "outputs": [
        {
          "output_type": "stream",
          "name": "stdout",
          "text": [
            "4\n"
          ]
        }
      ]
    },
    {
      "cell_type": "code",
      "source": [
        "a=1\n",
        "b=1\n",
        "\n",
        "if a!=b:\n",
        "  print(a-b)\n",
        "else:\n",
        "  print(a+b)"
      ],
      "metadata": {
        "colab": {
          "base_uri": "https://localhost:8080/"
        },
        "id": "VgbwGEs2ceX5",
        "outputId": "3e2cf538-3a08-4de9-f989-b8fd7c16d774"
      },
      "execution_count": 37,
      "outputs": [
        {
          "output_type": "stream",
          "name": "stdout",
          "text": [
            "2\n"
          ]
        }
      ]
    },
    {
      "cell_type": "code",
      "source": [
        "a=1\n",
        "while a <= 5:\n",
        "  print(\"counting!\"*a)\n",
        "  a +=1"
      ],
      "metadata": {
        "colab": {
          "base_uri": "https://localhost:8080/"
        },
        "collapsed": true,
        "id": "d1dLGWYechrd",
        "outputId": "bb2a0a71-5f5b-4c91-fec1-28dcacda706e"
      },
      "execution_count": 2,
      "outputs": [
        {
          "output_type": "stream",
          "name": "stdout",
          "text": [
            "counting!\n",
            "counting!counting!\n",
            "counting!counting!counting!\n",
            "counting!counting!counting!counting!\n",
            "counting!counting!counting!counting!counting!\n"
          ]
        }
      ]
    },
    {
      "cell_type": "code",
      "source": [
        "names=[\"Alice\",\"Bob\",\"Charlie\"]\n",
        "for name in names:\n",
        "  print(\"Hello,name\")"
      ],
      "metadata": {
        "colab": {
          "base_uri": "https://localhost:8080/"
        },
        "id": "qf9H7oeHeHwd",
        "outputId": "e2261cdb-251f-4899-9284-c38a10cbf4df"
      },
      "execution_count": 3,
      "outputs": [
        {
          "output_type": "stream",
          "name": "stdout",
          "text": [
            "Hello,name\n",
            "Hello,name\n",
            "Hello,name\n"
          ]
        }
      ]
    },
    {
      "cell_type": "code",
      "source": [
        "iterations=10\n",
        "\n",
        "for number in range(iterations):\n",
        "  print(number)"
      ],
      "metadata": {
        "colab": {
          "base_uri": "https://localhost:8080/"
        },
        "id": "l1UIUkoMe6ix",
        "outputId": "5143a229-10c8-485b-e581-98d043ec54aa"
      },
      "execution_count": 4,
      "outputs": [
        {
          "output_type": "stream",
          "name": "stdout",
          "text": [
            "0\n",
            "1\n",
            "2\n",
            "3\n",
            "4\n",
            "5\n",
            "6\n",
            "7\n",
            "8\n",
            "9\n"
          ]
        }
      ]
    },
    {
      "cell_type": "code",
      "source": [
        "a=3\n",
        "b=1\n",
        "while a <=30:\n",
        "  print(a*b)\n",
        "  a+=1\n",
        "\n"
      ],
      "metadata": {
        "colab": {
          "base_uri": "https://localhost:8080/"
        },
        "id": "6ERkG_8IfZmi",
        "outputId": "1ed56b5f-bf89-4fb6-a522-e7ae7c878aa7"
      },
      "execution_count": 15,
      "outputs": [
        {
          "output_type": "stream",
          "name": "stdout",
          "text": [
            "9\n",
            "12\n",
            "15\n",
            "18\n",
            "21\n",
            "24\n",
            "27\n"
          ]
        }
      ]
    },
    {
      "cell_type": "code",
      "source": [
        "for number in range(9,28, 3):\n",
        "  print (number)"
      ],
      "metadata": {
        "colab": {
          "base_uri": "https://localhost:8080/"
        },
        "id": "KoOFCKfTiRwo",
        "outputId": "6ebd8f15-0919-4727-c5fd-410174aabc15"
      },
      "execution_count": 16,
      "outputs": [
        {
          "output_type": "stream",
          "name": "stdout",
          "text": [
            "9\n",
            "12\n",
            "15\n",
            "18\n",
            "21\n",
            "24\n",
            "27\n"
          ]
        }
      ]
    },
    {
      "cell_type": "code",
      "source": [
        "a=4503\n",
        "b=9308\n",
        "if a%2==1:\n",
        "  a+=0\n",
        "else:\n",
        "    a+=1\n",
        "\n",
        "if b%2==0:\n",
        "  b-=1\n",
        "else:\n",
        "    b+=0\n",
        "print(sum(range(a,b+1,2)))"
      ],
      "metadata": {
        "colab": {
          "base_uri": "https://localhost:8080/"
        },
        "id": "Yjf3MuLhjNdN",
        "outputId": "90a03c45-d10b-47ac-b739-0ec3af8aeb5f"
      },
      "execution_count": 56,
      "outputs": [
        {
          "output_type": "stream",
          "name": "stdout",
          "text": [
            "16592715\n"
          ]
        }
      ]
    }
  ]
}