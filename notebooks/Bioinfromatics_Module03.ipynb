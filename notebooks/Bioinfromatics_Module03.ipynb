{
  "nbformat": 4,
  "nbformat_minor": 0,
  "metadata": {
    "colab": {
      "provenance": [],
      "authorship_tag": "ABX9TyPmXxtWOEGT5Gv9J/trUmyU",
      "include_colab_link": true
    },
    "kernelspec": {
      "name": "python3",
      "display_name": "Python 3"
    },
    "language_info": {
      "name": "python"
    }
  },
  "cells": [
    {
      "cell_type": "markdown",
      "metadata": {
        "id": "view-in-github",
        "colab_type": "text"
      },
      "source": [
        "<a href=\"https://colab.research.google.com/github/dpatel200/beginning-bioinformatics/blob/main/notebooks/Bioinfromatics_Module03.ipynb\" target=\"_parent\"><img src=\"https://colab.research.google.com/assets/colab-badge.svg\" alt=\"Open In Colab\"/></a>"
      ]
    },
    {
      "cell_type": "code",
      "execution_count": null,
      "metadata": {
        "colab": {
          "base_uri": "https://localhost:8080/"
        },
        "id": "hgy7bDQ9FccB",
        "outputId": "703238a6-56ab-4ae6-98f1-da7d208aba82"
      },
      "outputs": [
        {
          "output_type": "stream",
          "name": "stdout",
          "text": [
            "Hello World\n"
          ]
        }
      ],
      "source": [
        "print (\"Hello World\")"
      ]
    },
    {
      "cell_type": "code",
      "source": [
        "x=5\n",
        "print(x)"
      ],
      "metadata": {
        "colab": {
          "base_uri": "https://localhost:8080/"
        },
        "id": "NKgI67r1F3HR",
        "outputId": "4f99a1db-acd8-44c9-8b86-76eb61615d75"
      },
      "execution_count": null,
      "outputs": [
        {
          "output_type": "stream",
          "name": "stdout",
          "text": [
            "5\n"
          ]
        }
      ]
    },
    {
      "cell_type": "code",
      "source": [
        "a=918\n",
        "b=801\n",
        "c=a**2+b**2\n",
        "c"
      ],
      "metadata": {
        "colab": {
          "base_uri": "https://localhost:8080/"
        },
        "id": "9xyeQ2vFGTv0",
        "outputId": "e4a82931-1a33-4948-e10d-5ff5f8d4c29b"
      },
      "execution_count": null,
      "outputs": [
        {
          "output_type": "execute_result",
          "data": {
            "text/plain": [
              "1484325"
            ]
          },
          "metadata": {},
          "execution_count": 2
        }
      ]
    },
    {
      "cell_type": "code",
      "source": [
        "name = input(\"Enter your Name:\")\n",
        "print(\"Hello,\"+ name)"
      ],
      "metadata": {
        "id": "hMknoyPjR6A8",
        "colab": {
          "base_uri": "https://localhost:8080/"
        },
        "outputId": "2e8ce404-6c9d-4885-c3ae-7e0739a8fd4c"
      },
      "execution_count": null,
      "outputs": [
        {
          "output_type": "stream",
          "name": "stdout",
          "text": [
            "Enter your Name:Devanshi\n",
            "hello,Devanshi\n"
          ]
        }
      ]
    },
    {
      "cell_type": "code",
      "source": [
        "a=int(input(\"Enter a value\"))\n",
        "b=int(input(\"Enter b value\"))\n",
        "c=a**2+b**2\n",
        "print(c)"
      ],
      "metadata": {
        "colab": {
          "base_uri": "https://localhost:8080/"
        },
        "id": "P7QBLVE-bsnC",
        "outputId": "d35b7742-012d-4dea-92e0-054808de6b7c"
      },
      "execution_count": 1,
      "outputs": [
        {
          "output_type": "stream",
          "name": "stdout",
          "text": [
            "Enter a value122\n",
            "Enter b value458\n",
            "224648\n"
          ]
        }
      ]
    },
    {
      "cell_type": "code",
      "source": [
        "#create a list with 3 elements and then print them\n",
        "\n",
        "my_list=[\"Hello\",\"World\",\"Charles Darwin\"]\n",
        "print(my_list[1])"
      ],
      "metadata": {
        "colab": {
          "base_uri": "https://localhost:8080/"
        },
        "id": "N0N-mT20PODy",
        "outputId": "9d77515b-1de6-4867-8e76-2084b6335af6"
      },
      "execution_count": 12,
      "outputs": [
        {
          "output_type": "stream",
          "name": "stdout",
          "text": [
            "World\n"
          ]
        }
      ]
    },
    {
      "cell_type": "code",
      "source": [
        "#substitue the item at index 2 in the list\n",
        "my_list[2]=\"Alfred R. Wallace\"\n",
        "print(my_list)"
      ],
      "metadata": {
        "colab": {
          "base_uri": "https://localhost:8080/"
        },
        "id": "Btm66oJcPuSu",
        "outputId": "5d9841a5-c624-4429-f6d2-2ae0f0256ff1"
      },
      "execution_count": 13,
      "outputs": [
        {
          "output_type": "stream",
          "name": "stdout",
          "text": [
            "['Hello', 'World', 'Alfred R. Wallace']\n"
          ]
        }
      ]
    },
    {
      "cell_type": "code",
      "source": [
        "my_list.append(\"Charles Darwin\")\n",
        "print(my_list)"
      ],
      "metadata": {
        "colab": {
          "base_uri": "https://localhost:8080/"
        },
        "id": "fIW8lEh-QSEc",
        "outputId": "e727b4e5-c7b7-4e6b-de1d-92b62ee4aaec"
      },
      "execution_count": 14,
      "outputs": [
        {
          "output_type": "stream",
          "name": "stdout",
          "text": [
            "['Hello', 'World', 'Alfred R. Wallace', 'Charles Darwin']\n"
          ]
        }
      ]
    },
    {
      "cell_type": "code",
      "source": [
        "my_list.insert(1,\"Bioinformatics\")\n",
        "print(my_list)"
      ],
      "metadata": {
        "colab": {
          "base_uri": "https://localhost:8080/"
        },
        "id": "oLVGVL8GQuWl",
        "outputId": "49a5fcc7-7a1f-4796-ddcc-f98d5e059115"
      },
      "execution_count": 15,
      "outputs": [
        {
          "output_type": "stream",
          "name": "stdout",
          "text": [
            "['Hello', 'Bioinformatics', 'World', 'Alfred R. Wallace', 'Charles Darwin']\n"
          ]
        }
      ]
    },
    {
      "cell_type": "code",
      "source": [
        "print(my_list[2:4])"
      ],
      "metadata": {
        "colab": {
          "base_uri": "https://localhost:8080/"
        },
        "id": "xARoTbpVRhym",
        "outputId": "b650876c-2a99-48cf-d077-94c93c859efc"
      },
      "execution_count": 16,
      "outputs": [
        {
          "output_type": "stream",
          "name": "stdout",
          "text": [
            "['World', 'Alfred R. Wallace']\n"
          ]
        }
      ]
    },
    {
      "cell_type": "code",
      "source": [
        "my_string=\"HelloWorldCharlesDarwinAlfred R. Wallace\"\n",
        "print(my_string[0:5],my_string[5:10])"
      ],
      "metadata": {
        "colab": {
          "base_uri": "https://localhost:8080/"
        },
        "id": "JJRb89wKS9fn",
        "outputId": "3af271e0-6ad5-438e-e2b7-ace3d793f1a2"
      },
      "execution_count": 17,
      "outputs": [
        {
          "output_type": "stream",
          "name": "stdout",
          "text": [
            "Hello World\n"
          ]
        }
      ]
    },
    {
      "cell_type": "code",
      "source": [
        "print (my_string[32:40],my_string[5:10])"
      ],
      "metadata": {
        "colab": {
          "base_uri": "https://localhost:8080/"
        },
        "id": "UWXGUhbhThpS",
        "outputId": "71e6ee0a-84af-4b11-91ef-0de145924d43"
      },
      "execution_count": 19,
      "outputs": [
        {
          "output_type": "stream",
          "name": "stdout",
          "text": [
            " Wallace World\n"
          ]
        }
      ]
    },
    {
      "cell_type": "code",
      "source": [
        "my_string=\"5pRgUKy6OVEqEulabeiaNR4DSh94OifkpW1WVqS0tPULSL61wmt4wTNVp6IboKbPk4hq6Cu3kVci6rmSJOCg8LhxXwgFU3hOySYjdsJCxzhDJW5pX6ftEpmwUacitreolaUMGSv2RUQEaPIhyqxksTL9L1wgm4GUX3Prl41YssOw.\"\n",
        "print(my_string)"
      ],
      "metadata": {
        "colab": {
          "base_uri": "https://localhost:8080/"
        },
        "id": "G6Zzey53UOp3",
        "outputId": "10e792dc-afa7-4d78-de71-feebd8436c02"
      },
      "execution_count": 28,
      "outputs": [
        {
          "output_type": "stream",
          "name": "stdout",
          "text": [
            "5pRgUKy6OVEqEulabeiaNR4DSh94OifkpW1WVqS0tPULSL61wmt4wTNVp6IboKbPk4hq6Cu3kVci6rmSJOCg8LhxXwgFU3hOySYjdsJCxzhDJW5pX6ftEpmwUacitreolaUMGSv2RUQEaPIhyqxksTL9L1wgm4GUX3Prl41YssOw.\n"
          ]
        }
      ]
    },
    {
      "cell_type": "code",
      "source": [
        "print (my_string[12:20],my_string[122:130],)"
      ],
      "metadata": {
        "colab": {
          "base_uri": "https://localhost:8080/"
        },
        "id": "K9EgfM5RUhfh",
        "outputId": "59658bf2-f870-44ea-feae-4b0191d34de9"
      },
      "execution_count": 29,
      "outputs": [
        {
          "output_type": "stream",
          "name": "stdout",
          "text": [
            "Eulabeia citreola\n"
          ]
        }
      ]
    },
    {
      "cell_type": "code",
      "source": [
        "a=5\n",
        "b=1\n",
        "\n",
        "if a!=b:\n",
        "  print(a-b)\n",
        "else:\n",
        "  print(a+b)"
      ],
      "metadata": {
        "colab": {
          "base_uri": "https://localhost:8080/"
        },
        "id": "B4KTsAfBb6MD",
        "outputId": "a179ceed-88f2-4bcd-e3e1-20051611a9fd"
      },
      "execution_count": 36,
      "outputs": [
        {
          "output_type": "stream",
          "name": "stdout",
          "text": [
            "4\n"
          ]
        }
      ]
    },
    {
      "cell_type": "code",
      "source": [
        "a=1\n",
        "b=1\n",
        "\n",
        "if a!=b:\n",
        "  print(a-b)\n",
        "else:\n",
        "  print(a+b)"
      ],
      "metadata": {
        "colab": {
          "base_uri": "https://localhost:8080/"
        },
        "id": "VgbwGEs2ceX5",
        "outputId": "3e2cf538-3a08-4de9-f989-b8fd7c16d774"
      },
      "execution_count": 37,
      "outputs": [
        {
          "output_type": "stream",
          "name": "stdout",
          "text": [
            "2\n"
          ]
        }
      ]
    },
    {
      "cell_type": "code",
      "source": [
        "a=1\n",
        "while a <= 5:\n",
        "  print(\"counting!\"*a)\n",
        "  a +=1"
      ],
      "metadata": {
        "colab": {
          "base_uri": "https://localhost:8080/"
        },
        "collapsed": true,
        "id": "d1dLGWYechrd",
        "outputId": "bb2a0a71-5f5b-4c91-fec1-28dcacda706e"
      },
      "execution_count": 2,
      "outputs": [
        {
          "output_type": "stream",
          "name": "stdout",
          "text": [
            "counting!\n",
            "counting!counting!\n",
            "counting!counting!counting!\n",
            "counting!counting!counting!counting!\n",
            "counting!counting!counting!counting!counting!\n"
          ]
        }
      ]
    },
    {
      "cell_type": "code",
      "source": [
        "names=[\"Alice\",\"Bob\",\"Charlie\"]\n",
        "for name in names:\n",
        "  print(\"Hello,name\")"
      ],
      "metadata": {
        "colab": {
          "base_uri": "https://localhost:8080/"
        },
        "id": "qf9H7oeHeHwd",
        "outputId": "e2261cdb-251f-4899-9284-c38a10cbf4df"
      },
      "execution_count": 3,
      "outputs": [
        {
          "output_type": "stream",
          "name": "stdout",
          "text": [
            "Hello,name\n",
            "Hello,name\n",
            "Hello,name\n"
          ]
        }
      ]
    },
    {
      "cell_type": "code",
      "source": [
        "iterations=10\n",
        "\n",
        "for number in range(iterations):\n",
        "  print(number)"
      ],
      "metadata": {
        "colab": {
          "base_uri": "https://localhost:8080/"
        },
        "id": "l1UIUkoMe6ix",
        "outputId": "5143a229-10c8-485b-e581-98d043ec54aa"
      },
      "execution_count": 4,
      "outputs": [
        {
          "output_type": "stream",
          "name": "stdout",
          "text": [
            "0\n",
            "1\n",
            "2\n",
            "3\n",
            "4\n",
            "5\n",
            "6\n",
            "7\n",
            "8\n",
            "9\n"
          ]
        }
      ]
    },
    {
      "cell_type": "code",
      "source": [
        "a=3\n",
        "b=1\n",
        "while a <=30:\n",
        "  print(a*b)\n",
        "  a+=1\n",
        "\n"
      ],
      "metadata": {
        "colab": {
          "base_uri": "https://localhost:8080/"
        },
        "id": "6ERkG_8IfZmi",
        "outputId": "1ed56b5f-bf89-4fb6-a522-e7ae7c878aa7"
      },
      "execution_count": 15,
      "outputs": [
        {
          "output_type": "stream",
          "name": "stdout",
          "text": [
            "9\n",
            "12\n",
            "15\n",
            "18\n",
            "21\n",
            "24\n",
            "27\n"
          ]
        }
      ]
    },
    {
      "cell_type": "code",
      "source": [
        "for number in range(9,28, 3):\n",
        "  print (number)"
      ],
      "metadata": {
        "colab": {
          "base_uri": "https://localhost:8080/"
        },
        "id": "KoOFCKfTiRwo",
        "outputId": "6ebd8f15-0919-4727-c5fd-410174aabc15"
      },
      "execution_count": 16,
      "outputs": [
        {
          "output_type": "stream",
          "name": "stdout",
          "text": [
            "9\n",
            "12\n",
            "15\n",
            "18\n",
            "21\n",
            "24\n",
            "27\n"
          ]
        }
      ]
    },
    {
      "cell_type": "code",
      "source": [
        "a=4503\n",
        "b=9308\n",
        "if a%2==1:\n",
        "  a+=0\n",
        "else:\n",
        "    a+=1\n",
        "\n",
        "if b%2==0:\n",
        "  b-=1\n",
        "else:\n",
        "    b+=0\n",
        "print(sum(range(a,b+1,2)))"
      ],
      "metadata": {
        "colab": {
          "base_uri": "https://localhost:8080/"
        },
        "id": "Yjf3MuLhjNdN",
        "outputId": "90a03c45-d10b-47ac-b739-0ec3af8aeb5f"
      },
      "execution_count": 56,
      "outputs": [
        {
          "output_type": "stream",
          "name": "stdout",
          "text": [
            "16592715\n"
          ]
        }
      ]
    },
    {
      "cell_type": "code",
      "source": [
        "with open(\"practice.txt\",\"r\")as data:\n",
        " print(data.read())\n",
        " print(data.readline())\n",
        " print(data.readlines())\n"
      ],
      "metadata": {
        "colab": {
          "base_uri": "https://localhost:8080/"
        },
        "id": "_OAoFt_-AxAq",
        "outputId": "7385ea4f-76f0-47e6-862d-ef62036f1077"
      },
      "execution_count": 12,
      "outputs": [
        {
          "output_type": "stream",
          "name": "stdout",
          "text": [
            "Bravely bold Sir Robin rode forth from Camelot\n",
            "Yes, brave Sir Robin turned about\n",
            "He was not afraid to die, O brave Sir Robin\n",
            "And gallantly he chickened out\n",
            "He was not at all afraid to be killed in nasty ways\n",
            "Bravely talking to his feet\n",
            "Brave, brave, brave, brave Sir Robin\n",
            "He beat a very brave retreat\n",
            "\n",
            "[]\n"
          ]
        }
      ]
    },
    {
      "cell_type": "code",
      "source": [
        "with open(\"practice.txt\",\"r\")as data:\n",
        "\n",
        "  list_of_lines=data.readlines()\n",
        "\n",
        "print(list_of_lines)"
      ],
      "metadata": {
        "colab": {
          "base_uri": "https://localhost:8080/"
        },
        "id": "wk509u8xC83x",
        "outputId": "f25defa7-e499-4a15-d5ac-58aaa48a5183"
      },
      "execution_count": 14,
      "outputs": [
        {
          "output_type": "stream",
          "name": "stdout",
          "text": [
            "['Bravely bold Sir Robin rode forth from Camelot\\n', 'Yes, brave Sir Robin turned about\\n', 'He was not afraid to die, O brave Sir Robin\\n', 'And gallantly he chickened out\\n', 'He was not at all afraid to be killed in nasty ways\\n', 'Bravely talking to his feet\\n', 'Brave, brave, brave, brave Sir Robin\\n', 'He beat a very brave retreat']\n"
          ]
        }
      ]
    },
    {
      "cell_type": "code",
      "source": [
        "with open(\"practice.txt\",\"r\")as data:\n",
        "\n",
        "  for line in data:\n",
        "    print(line)\n",
        "    print(line.rstrip())"
      ],
      "metadata": {
        "colab": {
          "base_uri": "https://localhost:8080/"
        },
        "id": "Ga-6TlZLDsXx",
        "outputId": "49feb33d-4eac-4bf6-a534-3d8d0f6b9489"
      },
      "execution_count": 18,
      "outputs": [
        {
          "output_type": "stream",
          "name": "stdout",
          "text": [
            "Bravely bold Sir Robin rode forth from Camelot\n",
            "\n",
            "Bravely bold Sir Robin rode forth from Camelot\n",
            "Yes, brave Sir Robin turned about\n",
            "\n",
            "Yes, brave Sir Robin turned about\n",
            "He was not afraid to die, O brave Sir Robin\n",
            "\n",
            "He was not afraid to die, O brave Sir Robin\n",
            "And gallantly he chickened out\n",
            "\n",
            "And gallantly he chickened out\n",
            "He was not at all afraid to be killed in nasty ways\n",
            "\n",
            "He was not at all afraid to be killed in nasty ways\n",
            "Bravely talking to his feet\n",
            "\n",
            "Bravely talking to his feet\n",
            "Brave, brave, brave, brave Sir Robin\n",
            "\n",
            "Brave, brave, brave, brave Sir Robin\n",
            "He beat a very brave retreat\n",
            "He beat a very brave retreat\n"
          ]
        }
      ]
    },
    {
      "cell_type": "code",
      "source": [
        "with open(\"practice.txt\",\"r\")as data:\n",
        " line_number=1\n",
        " for line in data:\n",
        "  if line_number%2==0:\n",
        "   print(line.rstrip())\n",
        "  line_number+=1"
      ],
      "metadata": {
        "colab": {
          "base_uri": "https://localhost:8080/"
        },
        "id": "4kYDlExYE_fQ",
        "outputId": "9cba1bbc-fb57-4632-d59b-c9f2978e478f"
      },
      "execution_count": 30,
      "outputs": [
        {
          "output_type": "stream",
          "name": "stdout",
          "text": [
            "Yes, brave Sir Robin turned about\n",
            "And gallantly he chickened out\n",
            "Bravely talking to his feet\n",
            "He beat a very brave retreat\n"
          ]
        }
      ]
    },
    {
      "cell_type": "code",
      "source": [
        "with open(\"rosalind_ini5.txt\",\"r\")as data:\n",
        " line_number=1\n",
        " for line in data:\n",
        "  if line_number%2==0:\n",
        "   print(line.rstrip())\n",
        "  line_number+=1"
      ],
      "metadata": {
        "colab": {
          "base_uri": "https://localhost:8080/"
        },
        "id": "1PlyGOiLOPEe",
        "outputId": "901f5a60-1361-4ca6-c4be-92842df39be5"
      },
      "execution_count": 31,
      "outputs": [
        {
          "output_type": "stream",
          "name": "stdout",
          "text": [
            "Some things in life are bad, they can really make you mad\n",
            "Other things just make you swear and curse\n",
            "When you're chewing on life's gristle, don't grumble give a whistle\n",
            "This will help things turn out for the best\n",
            "Always look on the bright side of life\n",
            "Always look on the right side of life\n",
            "If life seems jolly rotten, there's something you've forgotten\n",
            "And that's to laugh and smile and dance and sing\n",
            "When you're feeling in the dumps, don't be silly, chumps\n",
            "Just purse your lips and whistle, that's the thing\n",
            "So, always look on the bright side of death\n",
            "Just before you draw your terminal breath\n",
            "Life's a counterfeit and when you look at it\n",
            "Life's a laugh and death's the joke, it's true\n",
            "You see, it's all a show, keep them laughing as you go\n",
            "Just remember the last laugh is on you\n",
            "Always look on the bright side of life\n",
            "And always look on the right side of life\n",
            "Always look on the bright side of life\n",
            "And always look on the right side of life\n"
          ]
        }
      ]
    },
    {
      "cell_type": "code",
      "source": [
        "with open(\"practice_5.txt\",\"r\")as data:\n",
        "\n",
        "  line=data.read()\n",
        "\n",
        "for word in line.split():\n",
        "  print(word)"
      ],
      "metadata": {
        "colab": {
          "base_uri": "https://localhost:8080/"
        },
        "id": "S7o0urQcGVN7",
        "outputId": "147a13b1-6972-4ec7-bda1-0607523aa437"
      },
      "execution_count": 24,
      "outputs": [
        {
          "output_type": "stream",
          "name": "stdout",
          "text": [
            "We\n",
            "tried\n",
            "list\n",
            "and\n",
            "we\n",
            "tried\n",
            "dicts\n",
            "also\n",
            "we\n",
            "tried\n",
            "Zen\n"
          ]
        }
      ]
    },
    {
      "cell_type": "code",
      "source": [
        "Sequences={\"H.neandertalensis\":\"ACGTCGCTCTGCTA\",\"H.sapiens\":\"ACGTCACTCTGCTA\"}\n",
        "print(Sequences)"
      ],
      "metadata": {
        "colab": {
          "base_uri": "https://localhost:8080/"
        },
        "id": "X20FSEuTSZsq",
        "outputId": "7074f75d-8ca3-47af-b1be-290e0d5fec8e"
      },
      "execution_count": 44,
      "outputs": [
        {
          "output_type": "stream",
          "name": "stdout",
          "text": [
            "{'H.neandertalensis': 'ACGTCGCTCTGCTA', 'H.sapiens': 'ACGTCACTCTGCTA'}\n"
          ]
        }
      ]
    },
    {
      "cell_type": "code",
      "source": [
        "Sequences[\"P.troglodytes\"]=\"ACGTCGCTCTGCTA\"\n",
        "print(Sequences)"
      ],
      "metadata": {
        "colab": {
          "base_uri": "https://localhost:8080/"
        },
        "id": "m8QE4LioTS2g",
        "outputId": "8897897d-3545-47da-a9c2-94eb3455717a"
      },
      "execution_count": 45,
      "outputs": [
        {
          "output_type": "stream",
          "name": "stdout",
          "text": [
            "{'H.neandertalensis': 'ACGTCGCTCTGCTA', 'H.sapiens': 'ACGTCACTCTGCTA', 'P.troglodytes': 'ACGTCGCTCTGCTA'}\n"
          ]
        }
      ]
    },
    {
      "cell_type": "code",
      "source": [
        "Sequences.update({\"G.gorilla\":\"ACGTCCTCCTA\"})\n",
        "print(Sequences[\"H.sapiens\"])"
      ],
      "metadata": {
        "colab": {
          "base_uri": "https://localhost:8080/"
        },
        "id": "kZoc49cST2DW",
        "outputId": "b9beccc0-111c-4382-a157-51afd277aaa5"
      },
      "execution_count": 48,
      "outputs": [
        {
          "output_type": "stream",
          "name": "stdout",
          "text": [
            "ACGTCACTCTGCTA\n"
          ]
        }
      ]
    },
    {
      "cell_type": "code",
      "source": [
        "for key,value in Sequences.items():\n",
        "  print(key,value)"
      ],
      "metadata": {
        "colab": {
          "base_uri": "https://localhost:8080/"
        },
        "id": "EwVjHbpQUplo",
        "outputId": "5aaf471e-1614-4003-aaf4-36e9f165b8aa"
      },
      "execution_count": 49,
      "outputs": [
        {
          "output_type": "stream",
          "name": "stdout",
          "text": [
            "H.neandertalensis ACGTCGCTCTGCTA\n",
            "H.sapiens ACGTCACTCTGCTA\n",
            "P.troglodytes ACGTCGCTCTGCTA\n",
            "G.gorilla ACGTCCTCCTA\n"
          ]
        }
      ]
    },
    {
      "cell_type": "code",
      "source": [
        "for key,value in Sequences.items():\n",
        "  print(\">\"+key)\n",
        "  print(value)"
      ],
      "metadata": {
        "colab": {
          "base_uri": "https://localhost:8080/"
        },
        "id": "J9DzRjF2VFG-",
        "outputId": "bc16eacf-a090-494f-c40d-51a53c3eac7d"
      },
      "execution_count": 52,
      "outputs": [
        {
          "output_type": "stream",
          "name": "stdout",
          "text": [
            ">H.neandertalensis\n",
            "ACGTCGCTCTGCTA\n",
            ">H.sapiens\n",
            "ACGTCACTCTGCTA\n",
            ">P.troglodytes\n",
            "ACGTCGCTCTGCTA\n",
            ">G.gorilla\n",
            "ACGTCCTCCTA\n"
          ]
        }
      ]
    },
    {
      "cell_type": "code",
      "source": [
        "with open(\"rosalind_ini6.txt\",\"r\") as data:\n",
        "  word=data.read().split()\n",
        "\n",
        "Word_count={}\n",
        "for word in word:\n",
        "  if word not in Word_count:\n",
        "    Word_count[word]=1\n",
        "  else:\n",
        "    Word_count[word]+=1\n",
        "\n",
        "for key,value in Word_count.items():\n",
        "  print(key,value)\n"
      ],
      "metadata": {
        "colab": {
          "base_uri": "https://localhost:8080/"
        },
        "id": "Ofk42ko2XIic",
        "outputId": "d6456648-67c2-4c49-e4b5-47c993daa3ed"
      },
      "execution_count": 54,
      "outputs": [
        {
          "output_type": "stream",
          "name": "stdout",
          "text": [
            "When 1\n",
            "I 2\n",
            "find 1\n",
            "myself 1\n",
            "in 4\n",
            "times 1\n",
            "of 11\n",
            "trouble 1\n",
            "Mother 2\n",
            "Mary 2\n",
            "comes 2\n",
            "to 3\n",
            "me 4\n",
            "Speaking 3\n",
            "words 7\n",
            "wisdom 7\n",
            "let 30\n",
            "it 36\n",
            "be 41\n",
            "And 3\n",
            "my 1\n",
            "hour 1\n",
            "darkness 1\n",
            "she 1\n",
            "is 4\n",
            "standing 1\n",
            "right 1\n",
            "front 1\n",
            "Let 6\n",
            "Whisper 4\n",
            "when 2\n",
            "the 4\n",
            "broken 1\n",
            "hearted 1\n",
            "people 1\n",
            "living 1\n",
            "world 1\n",
            "agree 1\n",
            "There 4\n",
            "will 5\n",
            "an 4\n",
            "answer 4\n",
            "For 1\n",
            "though 1\n",
            "they 2\n",
            "may 1\n",
            "parted 1\n",
            "there 2\n",
            "still 2\n",
            "a 2\n",
            "chance 1\n",
            "that 2\n",
            "see 1\n",
            "night 1\n",
            "cloudy 1\n",
            "light 1\n",
            "shines 1\n",
            "on 1\n",
            "Shine 1\n",
            "until 1\n",
            "tomorrow 1\n",
            "wake 1\n",
            "up 1\n",
            "sound 1\n",
            "music 1\n",
            "yeah 2\n"
          ]
        }
      ]
    },
    {
      "cell_type": "code",
      "source": [
        "with open(\"practice_6.txt\",\"r\") as data:\n",
        "  Nucleotide=data.read()\n",
        "\n",
        "print(Nucleotide.count(\"A\"))\n",
        "print(Nucleotide.count(\"C\"))\n",
        "print(Nucleotide.count(\"G\"))\n",
        "print(Nucleotide.count(\"T\"))"
      ],
      "metadata": {
        "colab": {
          "base_uri": "https://localhost:8080/"
        },
        "id": "2swtA7aMYwc1",
        "outputId": "d51fb4b3-5872-4b44-c555-6cf10a31afd7"
      },
      "execution_count": 56,
      "outputs": [
        {
          "output_type": "stream",
          "name": "stdout",
          "text": [
            "20\n",
            "12\n",
            "17\n",
            "21\n"
          ]
        }
      ]
    },
    {
      "cell_type": "code",
      "source": [
        "with open(\"rosalind_dna.txt\",\"r\") as data:\n",
        "  Nucleotide=data.read()\n",
        "\n",
        "print(Nucleotide.count(\"A\"))\n",
        "print(Nucleotide.count(\"C\"))\n",
        "print(Nucleotide.count(\"G\"))\n",
        "print(Nucleotide.count(\"T\"))"
      ],
      "metadata": {
        "colab": {
          "base_uri": "https://localhost:8080/"
        },
        "id": "Eo3ud_HTaXiH",
        "outputId": "ec110e83-2eda-4ee4-cd8d-782ceb330445"
      },
      "execution_count": 57,
      "outputs": [
        {
          "output_type": "stream",
          "name": "stdout",
          "text": [
            "221\n",
            "204\n",
            "214\n",
            "199\n"
          ]
        }
      ]
    },
    {
      "cell_type": "code",
      "source": [
        "!pip install biopython"
      ],
      "metadata": {
        "colab": {
          "base_uri": "https://localhost:8080/"
        },
        "id": "ZtAeq1C0awfE",
        "outputId": "9286dae1-5161-498e-b4fa-a85a5f286dcd"
      },
      "execution_count": 58,
      "outputs": [
        {
          "output_type": "stream",
          "name": "stdout",
          "text": [
            "Collecting biopython\n",
            "  Downloading biopython-1.85-cp312-cp312-manylinux_2_17_x86_64.manylinux2014_x86_64.whl.metadata (13 kB)\n",
            "Requirement already satisfied: numpy in /usr/local/lib/python3.12/dist-packages (from biopython) (2.0.2)\n",
            "Downloading biopython-1.85-cp312-cp312-manylinux_2_17_x86_64.manylinux2014_x86_64.whl (3.3 MB)\n",
            "\u001b[?25l   \u001b[90m━━━━━━━━━━━━━━━━━━━━━━━━━━━━━━━━━━━━━━━━\u001b[0m \u001b[32m0.0/3.3 MB\u001b[0m \u001b[31m?\u001b[0m eta \u001b[36m-:--:--\u001b[0m\r\u001b[2K   \u001b[91m━━━━━━━━━━━━━━━━━━━━━\u001b[0m\u001b[90m╺\u001b[0m\u001b[90m━━━━━━━━━━━━━━━━━━\u001b[0m \u001b[32m1.8/3.3 MB\u001b[0m \u001b[31m50.4 MB/s\u001b[0m eta \u001b[36m0:00:01\u001b[0m\r\u001b[2K   \u001b[90m━━━━━━━━━━━━━━━━━━━━━━━━━━━━━━━━━━━━━━━━\u001b[0m \u001b[32m3.3/3.3 MB\u001b[0m \u001b[31m45.0 MB/s\u001b[0m eta \u001b[36m0:00:00\u001b[0m\n",
            "\u001b[?25hInstalling collected packages: biopython\n",
            "Successfully installed biopython-1.85\n"
          ]
        }
      ]
    },
    {
      "cell_type": "code",
      "metadata": {
        "colab": {
          "base_uri": "https://localhost:8080/"
        },
        "id": "5d9151f3",
        "outputId": "d48b8d4a-909b-4548-90c0-2efa907f6237"
      },
      "source": [
        "try:\n",
        "    from Bio import SeqIO\n",
        "    print(\"Biopython is installed correctly.\")\n",
        "except ImportError:\n",
        "    print(\"Biopython is not installed or there was an error importing it.\")"
      ],
      "execution_count": 61,
      "outputs": [
        {
          "output_type": "stream",
          "name": "stdout",
          "text": [
            "Biopython is installed correctly.\n"
          ]
        }
      ]
    },
    {
      "cell_type": "code",
      "source": [
        "from Bio.Seq import Seq\n",
        "\n",
        "my_sequence = Seq(\"GATGGAACTTGACTACGTAAATT\")\n",
        "print(my_sequence.transcribe())"
      ],
      "metadata": {
        "colab": {
          "base_uri": "https://localhost:8080/"
        },
        "id": "Ohz_U4Y9ctxh",
        "outputId": "1564d4d9-7303-4e83-a1a4-5c84e1580931"
      },
      "execution_count": 71,
      "outputs": [
        {
          "output_type": "stream",
          "name": "stdout",
          "text": [
            "GAUGGAACUUGACUACGUAAAUU\n"
          ]
        }
      ]
    },
    {
      "cell_type": "code",
      "source": [
        "with open(\"rosalind_rna (2).txt\",\"r\") as data:\n",
        "  rosalind_sequence= data.read().strip()\n",
        "\n",
        "my_sequence=Seq(rosalind_sequence)\n",
        "print(my_sequence.transcribe())"
      ],
      "metadata": {
        "colab": {
          "base_uri": "https://localhost:8080/"
        },
        "id": "frAaEJOldbMe",
        "outputId": "d74c6207-b4e8-4130-a01e-06fb24c89b2f"
      },
      "execution_count": 72,
      "outputs": [
        {
          "output_type": "stream",
          "name": "stdout",
          "text": [
            "GAUGAGACGUCCCAUCUAAAACUUUUAUUGGUGUAACCAUAAAAGGAGAUCACACGGCCAGCAACGCGCAAAGGCCAAAUACUUCCACGUUGGCGGCCGCGUCACGGAGGACACCGUAUCCUUUUGGGGAUCACUACUCAUUUAGGCCCCGGUUCCUGAAUGGACCUACCCAUCCUUCCUCAUUAUGAAGUUGAGAGCAGUCAAUACGGGUAGUAAGUCCCUUGAUCGGCACUGCGACUCAUUGGGCGUAGGGGUUUUGGAGCCUGUUCAAAGUCUGAGCCUCGUGAUAGGGCUAGAGCCUUACGCAGGGGUUGUUGGGCCCCUCACCCGAAACGUAAAUGUGAUACGAACGAAGCCGGCAAAAAUUCGUACUUGAAUUUCAUAACUUGUAAGCAAAUCUAACUAAUUCGAACAGAUUUGCUUUCUCUCAUGCCCUGCUUAAUCUGGCAACGCAUACACGCUGCUGAUCGGCCGUGGAGUUCUUGUCUCACACAGCCUCCGCAGUCUACCUUCUCGAACCGCGCGGUUAAAUCGCAACAGAAUUCGAUUCUGGAAUAAAGGCUAACUUUAUUUGGCAGAUUAUAAAAAGUUUUUCCGGGUGGAGUAAACAAUCGAGCGAGUAGCGUAAACAGGCUGACAUUUACUGGGGGCCGUGAUUUGGGACUCUUGGUGACCGGGGCAGGGGUGGCUUAAUAAUCUGUCUAAUACGAUGUAGAUGCUUCUACCGACAACUCUGUGGAUCUGUUAUUCUACUUGAAAGAACAACAUUAUGCGGUCCGGAUCCGUUUGCCACCUGAGUAUCAAUGUGUAGGGUGAAUACUGAGGUGUUUAGGUGGAGCAAUGUCUGAACUGGCCCUUUGUGUAGGGGAGACCGGAAGGAGCUGAACUUAAGAACGGCAACCACGGUGUGUACUUGCUUUACAGGGCUACACUACCUAGGUGUGUUU\n"
          ]
        }
      ]
    },
    {
      "cell_type": "code",
      "source": [
        "my_sequence = Seq(\"AUGGCCAUGGCGCCCAGAACUGAGAUCAAUAGUACCCGUAUUAACGGGUGA\")\n",
        "print(my_sequence.translate())"
      ],
      "metadata": {
        "colab": {
          "base_uri": "https://localhost:8080/"
        },
        "id": "9HE52ZRnffT6",
        "outputId": "5040c5e9-30a2-4d71-eafd-78dc6c23f48d"
      },
      "execution_count": 73,
      "outputs": [
        {
          "output_type": "stream",
          "name": "stdout",
          "text": [
            "MAMAPRTEINSTRING*\n"
          ]
        }
      ]
    },
    {
      "cell_type": "code",
      "source": [
        "with open(\"rosalind_prot (1).txt\",\"r\") as data:\n",
        "  rosalind_sequence= data.read().strip()\n",
        "\n",
        "my_sequence=Seq(rosalind_sequence)\n",
        "print(my_sequence.translate())"
      ],
      "metadata": {
        "colab": {
          "base_uri": "https://localhost:8080/"
        },
        "id": "8EzqPCwYfuRw",
        "outputId": "8db76b5c-cc83-407c-9d9a-e442401e387f"
      },
      "execution_count": 76,
      "outputs": [
        {
          "output_type": "stream",
          "name": "stdout",
          "text": [
            "MGRLCLSLRSESILNTFVRDRGRRYSLLSWGTQIMWRLRTARGGNFMPSEQEISPWSRGIELVFSFGAILQCLRTTYSCITVVLSGGPPLVGTTSITSLWKECTQILYCAFEGNIAAYENGYATSTGLSRKVGTKCVSLRLIYSRYRSWTATTAISIFNEMDTRQWYNPINCRRVLYWGCALTKSLRGLGELLSIRGESQSTQVLNGHTLSSPTPYPHRPSHPDGTSPNYAQGPQPFSKLEYGDSIASTSPENPSQDISLQSRDSVPRMKLPKTPQAAKGSGSCSGVECIACWIFRDPNSEGSLYPVDTRLGLTGLCITYAGQMSSSIAEKRRYGEVDRALTDDEPKKPARVQHPPGRSAWSQTLEGSVTRLPQIDYIYNPPLTVRARVTGPSSVVYPDSIYSFVFPIRCDLSSANRLGPFPWGHLKAICLLYVRFWEAVGFTTAASARRSQYWNVALSLQIPYRGSTHLELEVREQCCGSCDKSIGCQQATSSPAGIADGLVLVPFVALSRGCSRAPGMRFSELRDLTVNGNLSCTSCARNLWISGAAGSQRYKKTWYTHVALLPLSTAASRLADRGIHPSTPILNRQLCRGLPDLIRWRLADHARALKTSVLRIFPTAARGALAHRDLAWPDRIHDECDPYGTEFYCSRMSGHKFLNMVTPLQKDSRSGSVIAGADVPHPHACSYKLRTPPTSQGHSHFCQLRSTSHHAGNEGSYKCLLFCSYREILPAIVSVAAGLRTNLNGLKLQSNLGLSPGSQMTFLGRNFPHKKVKNSSHLRSAFLVLVTSSLVGSYHVCPRIISDHLTPGARSHRMPVYQSGRARCTQTIPFHGGGERCSSPGAPGAYIVYYRALRHRSEGRIKLRSVGIQSPSALNSPITFSRSAQSTSLGSQGLRRRFMLGLGSRCLLSPEDRVLSSDLHQVQPVMSLSGTCSLGRVHPHPIQGLPARRRWIMRSTESYRNFNYLDLVRERPKNYQSGLLSLQNTPLGTHHYVTVEDAQIQSIPAFTPVVRRFGSFSTPSRAGSFRISPVESSARIRKLSIGFRFCRPFLLASELCRIIYMEDSDLAIQEIYICVEETSVAQLSKGLYLRFNRTICVPPTRAISLPVYLAMAWRVCSRTWYSKIEVSVRLILPKFHLRLCRLCFRTLYRSHGPSVLSTDLKMVVVREARRWLVHETKSSTNAPCAPSGINCTRAKICSLVPIIMSGDWQPEHIPCACSASRALAWSRVSDATDFVCSPGCMRYREAAGLFSSRCHSKNVRRRDIMSSVTHWEGNVFCGEVREDRPPCWPIYPTIVRTRTAWSSPLQISVTVTVFGHSWRPASVVYTELKVPSRVAGLSFPSGALFNHNRGEARYRKLLAHTRADEVALLVLIFGILLRSVNPIRDLSPQSRKPLRVLCGGYRWGTNPLDAALLRIHRHSSSPVALFPIAQKALKRIDEQGHTFSTPRSYPNKPVMTRHVSGAGSPLATGLARGACPLGCSLSCSLICVERSAPVNRTRDRRLLQEFVGPHRTLVKPLGGCLSGVKLSVLGRTFERALPDYLARFPVSGPPDKQNMMLGFHIFALPARLNLAGSSDRLQFNAALTDRVTWRRSNFAKCRETFNHSVLGISSLGLVSRLIGRFSFLLGQRAEVIVNNQREHQVHAVHHCQPSRQEVNRLNVRASSRDGRTWSDRSLRNTDILRAVLSSIGSRSVETYRSAETEGSARTCEICNRHMTGPAGPSRVNSSILAWGMQDDQVTERFGPCPIHYLHHPQNVNLMNGCRLFSQRPRATDSRSTDNRSGSSGSYPERRAFLSPHMWKNRCTYRMQWPYNSRPSSCHQPGRLIQVDTSSLHSPTFPVNSTCDSGGIEVCQTSSPTGPRGTWVEMAGGYKNPSPCFSCPPSILTRVRSKSRTKQGRGRRSNVGARQPLLGRWSLRRIRASTVGIWLSDPRLEPTYVRSGCWGRQIGGKRTGISIVRSQNATKRSSPVDTSPANIGLILLLSSTGLNRDVWTSMTNQRSRHTVVSLQDGLQVDVLLGMLSCTCEFRPLLHPGFVNSFHGPWTFVPFCNPASNLFDSSLYRIVITANPIRNIFTKIKARLLQVCSQAHLLRQSLVSLTRYRTDVGVRIWHICSCRTFFNRVRPCRLRAFQGSSHSASSKRQVLGYAGEHTCSRRYGQLPPTYYGFTYSACVVGGLQDEAILRRVARVRSIPYPRLCLRSAYISTPRIFCEPERNWPCLRRLEMGRHVTSRGGSSTSCVNGAVFTVNLETETGMLKIFLARWRIRACVYQPPYRWLTPTLSANSVLTHRGFAEQHYRTLCPGRSSSLMMVARYPVRGARCLNKCYELSPGCLNEHNAGTPIDSPISTYRSAILVPSLVNALWLDVRYSYQPKASLNTCTYGICTCHPNPLGVSGIVWPFTPLIVSPYVAIVYLAPFASQRHGGYPTINARNSTGSSPRCPQSRDATLFTLHFFTGEFCAMEGGYCHFIARIWSSGWKLCVRARLRGPLPPRQLFWRARLVRLVLKPVFEPWAQITTIRWGIQLSRARALQRLYVPVSKAQLQYLIINTANGLDTGLCAAILVSWSFFTTWELRSGSLLPGYIRSPAPPYEVRRLPCWNGLRYKAWIFMLAASITYRHISLVPKARSARGPSDAIAYTLCDWLIGNIRRTDTSRSSSITWVLLEDLLFFANTRVVLSRGSLVFIYCLFGLTLSSSGRVYTCAMPAASSRGPYTSKQTNDGQVSSLQEFQRLAAKKASNVDAVVSPCHEVPKVTGNPGHCDRSIRYTTQFHPMLPSRLDHLNRRQALTFRLLLYWSFFARGNVLNSIRMCPRAGATAQVLYVAFIPGPPRRVLLSICGSHNPSERDRDSEKVRNPFYIPSRCPGPQLGSGRLSLPQSQAEGTVAYPTLSTVTRPLIQWRSLGYTRFHQQYTRPKLSELQGSGLTLAVNSVSTEQFSARRCATTALITSVANRQAGIYEFAILTIFRVRDALRARARAYLAASILSPSANKGSYVLQYAPRNPQRYHSRAAQRPADFIAGFAPYLWRLVRLTMRVPRREQSGNFRLRLDYTSSLCHKCCNEQRVPVISMYTCGRRATCPLDSQYAVGSLYENPLESPWHARYVIALSNKLGPPNDAIPHALAERRALCRLLKNLIVSEYTSRRGLRNAEAQFAHVLRSGGPGVSLLRNRGLRHYLVSLCRQASRGVSLAWHSPNSTSDRGIPQCSLLWCFATFSYSSTWGLSRKRSKGIISGSRTCVLLYNLSEGILARHRHLICSQVSAPGPERCA*\n"
          ]
        }
      ]
    },
    {
      "cell_type": "code",
      "source": [
        "from Bio.SeqIO import parse\n",
        "\n",
        "for Seq_record in parse(\"practice_9.txt\",\"fasta\"):\n",
        "  print(Seq_record.id)\n",
        "  print(Seq_record.seq)\n",
        "  print(len(Seq_record.seq))\n",
        "  print(Seq_record)"
      ],
      "metadata": {
        "colab": {
          "base_uri": "https://localhost:8080/"
        },
        "id": "GbHdtVw8hZT1",
        "outputId": "2c87b2d0-6b7f-4fbd-c4db-6d488245aa7d"
      },
      "execution_count": 81,
      "outputs": [
        {
          "output_type": "stream",
          "name": "stdout",
          "text": [
            "Rosalind_6404\n",
            "CCTGCGGAAGATCGGCACTAGAATAGCCAGAACCGTTTCTCTGAGGCTTCCGGCCTTCCCTCCCACTAATAATTCTGAGG\n",
            "80\n",
            "ID: Rosalind_6404\n",
            "Name: Rosalind_6404\n",
            "Description: Rosalind_6404\n",
            "Number of features: 0\n",
            "Seq('CCTGCGGAAGATCGGCACTAGAATAGCCAGAACCGTTTCTCTGAGGCTTCCGGC...AGG')\n",
            "Rosalind_5959\n",
            "CCATCGGTAGCGCATCCTTAGTCCAATTAAGTCCCTATCCAGGCGCTCCGCCGAAGGTCTATATCCATTTGTCAGCAGACACGC\n",
            "84\n",
            "ID: Rosalind_5959\n",
            "Name: Rosalind_5959\n",
            "Description: Rosalind_5959\n",
            "Number of features: 0\n",
            "Seq('CCATCGGTAGCGCATCCTTAGTCCAATTAAGTCCCTATCCAGGCGCTCCGCCGA...CGC')\n",
            "Rosalind_0808\n",
            "CCACCCTCGTGGTATGGCTAGGCATTCAGGAACCGGAGAACGCTTCAGACCAGCCCGGACTGGGAACCTGCGGGCAGTAGGTGGAAT\n",
            "87\n",
            "ID: Rosalind_0808\n",
            "Name: Rosalind_0808\n",
            "Description: Rosalind_0808\n",
            "Number of features: 0\n",
            "Seq('CCACCCTCGTGGTATGGCTAGGCATTCAGGAACCGGAGAACGCTTCAGACCAGC...AAT')\n"
          ]
        }
      ]
    },
    {
      "cell_type": "code",
      "source": [
        "from Bio.SeqUtils import gc_fraction\n",
        "\n",
        "for Seq_record in parse(\"practice_9.txt\",\"fasta\"):\n",
        "  print(Seq_record.id)\n",
        "  print(gc_fraction(Seq_record.seq))"
      ],
      "metadata": {
        "colab": {
          "base_uri": "https://localhost:8080/"
        },
        "id": "yUr9QHk9jXnf",
        "outputId": "0ab8d891-c019-4770-a1ef-f006e1a88d91"
      },
      "execution_count": 84,
      "outputs": [
        {
          "output_type": "stream",
          "name": "stdout",
          "text": [
            "Rosalind_6404\n",
            "0.5375\n",
            "Rosalind_5959\n",
            "0.5357142857142857\n",
            "Rosalind_0808\n",
            "0.6091954022988506\n"
          ]
        }
      ]
    },
    {
      "cell_type": "code",
      "source": [
        "from Bio.SeqUtils import gc_fraction\n",
        "\n",
        "for Seq_record in parse(\"rosalind_gc.txt\",\"fasta\"):\n",
        "  print(Seq_record.id)\n",
        "  print(gc_fraction(Seq_record.seq))"
      ],
      "metadata": {
        "colab": {
          "base_uri": "https://localhost:8080/"
        },
        "id": "hPT7IoNikYhS",
        "outputId": "a8c1f0db-2041-4813-c786-42ad23a2975b"
      },
      "execution_count": 85,
      "outputs": [
        {
          "output_type": "stream",
          "name": "stdout",
          "text": [
            "Rosalind_4027\n",
            "0.5053003533568905\n",
            "Rosalind_9351\n",
            "0.48593073593073594\n",
            "Rosalind_9567\n",
            "0.5065065065065065\n",
            "Rosalind_7149\n",
            "0.5229813664596273\n",
            "Rosalind_9018\n",
            "0.5104039167686658\n",
            "Rosalind_8983\n",
            "0.49019607843137253\n"
          ]
        }
      ]
    },
    {
      "cell_type": "code",
      "source": [
        "high_ID, high_gc=None,-1.0\n",
        "for rec in parse (\"practice_9.txt\",\"fasta\"):\n",
        "  gc=gc_fraction(str(rec.seq))\n",
        "  if gc > high_gc:\n",
        "    high_gc=gc\n",
        "    high_ID=rec.id\n",
        "print(high_ID)\n",
        "print(round(high_gc*100,6))"
      ],
      "metadata": {
        "colab": {
          "base_uri": "https://localhost:8080/"
        },
        "id": "LCgK2mUcpQa8",
        "outputId": "645162df-d5dc-4b62-8f25-7410f254b16e"
      },
      "execution_count": 92,
      "outputs": [
        {
          "output_type": "stream",
          "name": "stdout",
          "text": [
            "Rosalind_0808\n",
            "60.91954\n"
          ]
        }
      ]
    },
    {
      "cell_type": "code",
      "source": [
        "high_ID, high_gc=None,-1.0\n",
        "for rec in parse (\"rosalind_gc (2).txt\",\"fasta\"):\n",
        "  gc=gc_fraction(str(rec.seq))\n",
        "  if gc > high_gc:\n",
        "    high_gc=gc\n",
        "    high_ID=rec.id\n",
        "print(high_ID)\n",
        "print(round(high_gc*100,6))"
      ],
      "metadata": {
        "colab": {
          "base_uri": "https://localhost:8080/"
        },
        "id": "nM3RjSslqYYh",
        "outputId": "408d0806-ddcf-4eff-c305-5f6bd29c0024"
      },
      "execution_count": 93,
      "outputs": [
        {
          "output_type": "stream",
          "name": "stdout",
          "text": [
            "Rosalind_6324\n",
            "51.103753\n"
          ]
        }
      ]
    }
  ]
}